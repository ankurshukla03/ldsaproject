{
 "cells": [
  {
   "cell_type": "code",
   "execution_count": 51,
   "metadata": {},
   "outputs": [],
   "source": [
    "from pyspark.sql import SparkSession\n",
    "from pyspark.sql.types import *\n",
    "\n",
    "spark = SparkSession.builder \\\n",
    "         .master(\"spark://192.168.1.71:7077\") \\\n",
    "         .appName(\"Project\") \\\n",
    "         .config(\"spark.some.config.option\", \"some-value\") \\\n",
    "         .getOrCreate()\n",
    "        \n",
    "sc = spark.sparkContext"
   ]
  },
  {
   "cell_type": "markdown",
   "metadata": {},
   "source": [
    "# Chicago dataset\n",
    "We used Crimes dataset from city of chicago portal and it contains many relevant information associated with each of the crime\n",
    "that has occurred in chicago from year 2001 to till now. We are plotting the graph for number of times a particular crimes has \n",
    "occurred in chicago, what is the frequency of the crime in a year from 2001 to 2018."
   ]
  },
  {
   "cell_type": "code",
   "execution_count": 52,
   "metadata": {
    "scrolled": false
   },
   "outputs": [],
   "source": [
    "#reading the csv file\n",
    "df = spark.read.csv('Crimes.csv', header=True, inferSchema=True)"
   ]
  },
  {
   "cell_type": "code",
   "execution_count": 59,
   "metadata": {
    "scrolled": true
   },
   "outputs": [
    {
     "name": "stdout",
     "output_type": "stream",
     "text": [
      "root\n",
      " |-- ID: integer (nullable = true)\n",
      " |-- Case Number: string (nullable = true)\n",
      " |-- Date: string (nullable = true)\n",
      " |-- Block: string (nullable = true)\n",
      " |-- IUCR: string (nullable = true)\n",
      " |-- Primary Type: string (nullable = true)\n",
      " |-- Description: string (nullable = true)\n",
      " |-- Location Description: string (nullable = true)\n",
      " |-- Arrest: boolean (nullable = true)\n",
      " |-- Domestic: boolean (nullable = true)\n",
      " |-- Beat: integer (nullable = true)\n",
      " |-- District: integer (nullable = true)\n",
      " |-- Ward: integer (nullable = true)\n",
      " |-- Community Area: integer (nullable = true)\n",
      " |-- FBI Code: string (nullable = true)\n",
      " |-- X Coordinate: integer (nullable = true)\n",
      " |-- Y Coordinate: integer (nullable = true)\n",
      " |-- Year: integer (nullable = true)\n",
      " |-- Updated On: string (nullable = true)\n",
      " |-- Latitude: double (nullable = true)\n",
      " |-- Longitude: double (nullable = true)\n",
      " |-- Location: string (nullable = true)\n",
      "\n"
     ]
    }
   ],
   "source": [
    "#df2 is 2.9 gb\n",
    "#df2 = df.union(df)\n",
    "df.printSchema()"
   ]
  },
  {
   "cell_type": "code",
   "execution_count": 37,
   "metadata": {},
   "outputs": [],
   "source": [
    "#df3 is 5.8 gb\n",
    "df3 = df2.union(df2)"
   ]
  },
  {
   "cell_type": "code",
   "execution_count": 47,
   "metadata": {},
   "outputs": [
    {
     "data": {
      "text/plain": [
       "52807112"
      ]
     },
     "execution_count": 47,
     "metadata": {},
     "output_type": "execute_result"
    }
   ],
   "source": [
    "df4 = df3.union(df3)\n",
    "df4.count()"
   ]
  },
  {
   "cell_type": "markdown",
   "metadata": {},
   "source": [
    "# Print RDD\n",
    "For printing out the rdd on which map reduce according to the column has been performed"
   ]
  },
  {
   "cell_type": "code",
   "execution_count": 53,
   "metadata": {},
   "outputs": [],
   "source": [
    "#For printing the rdd just paas the rdd object to print_rdd function\n",
    "def print_rdd(output):\n",
    "    for (word,count) in output.collect():\n",
    "        print(\"%s: %i\" % (word,count))\n",
    "    "
   ]
  },
  {
   "cell_type": "markdown",
   "metadata": {},
   "source": [
    "# Performing Map Reduce\n",
    "Paas the dataframe to the below function and the column name which you want to reduce it. It will return the rdd object."
   ]
  },
  {
   "cell_type": "code",
   "execution_count": 71,
   "metadata": {},
   "outputs": [],
   "source": [
    "def map_reduce(df,x):\n",
    "    crime_type = df.select(x)\n",
    "    rddcrime = crime_type.rdd\n",
    "    wordcounts= rddcrime.map(lambda w:(w,1)) \\\n",
    "        .reduceByKey(lambda a,b:a+b) \n",
    "    return wordcounts"
   ]
  },
  {
   "cell_type": "markdown",
   "metadata": {},
   "source": [
    "# Plotting RDD\n",
    "Use below function to plot the rdd and paas the column name which you want in x and y axis while calling this function."
   ]
  },
  {
   "cell_type": "code",
   "execution_count": 72,
   "metadata": {},
   "outputs": [],
   "source": [
    "def plotting_graph(rdd,x,y): \n",
    "    #Plotting the graph for number of crimes and frequency\n",
    "    schemaPeople = spark.createDataFrame(rdd)\n",
    "\n",
    "    #renaming the column in dataframe\n",
    "    schemaPeople = schemaPeople.withColumnRenamed('_1',x)\n",
    "    schemaPeople = schemaPeople.withColumnRenamed('_2',y)\n",
    "\n",
    "    schemaPanda = schemaPeople.toPandas()\n",
    "    display(schemaPanda)\n",
    "    schemaPanda.plot.bar(x =x, y =y, colormap = 'summer')"
   ]
  },
  {
   "cell_type": "markdown",
   "metadata": {},
   "source": [
    "# Mapping Crime Type\n",
    "Performed map reduce on Primary Type columns. It returns the number of times the particular crime has occured in chicago\n",
    "from year 2001 to till now"
   ]
  },
  {
   "cell_type": "code",
   "execution_count": 70,
   "metadata": {},
   "outputs": [
    {
     "name": "stdout",
     "output_type": "stream",
     "text": [
      "Row(Primary Type='INTIMIDATION'): 3832\n",
      "Row(Primary Type='NON-CRIMINAL'): 145\n",
      "Row(Primary Type='PUBLIC PEACE VIOLATION'): 47054\n",
      "Row(Primary Type='BATTERY'): 1204701\n",
      "Row(Primary Type='SEX OFFENSE'): 24392\n",
      "Row(Primary Type='NON-CRIMINAL (SUBJECT SPECIFIED)'): 7\n",
      "Row(Primary Type='CONCEALED CARRY LICENSE VIOLATION'): 187\n",
      "Row(Primary Type='STALKING'): 3258\n",
      "Row(Primary Type='MOTOR VEHICLE THEFT'): 309026\n",
      "Row(Primary Type='OFFENSE INVOLVING CHILDREN'): 44061\n",
      "Row(Primary Type='BURGLARY'): 381486\n",
      "Row(Primary Type='KIDNAPPING'): 6579\n",
      "Row(Primary Type='CRIMINAL TRESPASS'): 189822\n",
      "Row(Primary Type='ARSON'): 10933\n",
      "Row(Primary Type='OTHER OFFENSE'): 409517\n",
      "Row(Primary Type='PUBLIC INDECENCY'): 154\n",
      "Row(Primary Type='PROSTITUTION'): 67920\n",
      "Row(Primary Type='ROBBERY'): 250499\n",
      "Row(Primary Type='CRIM SEXUAL ASSAULT'): 26100\n",
      "Row(Primary Type='INTERFERENCE WITH PUBLIC OFFICER'): 14433\n",
      "Row(Primary Type='NON - CRIMINAL'): 38\n",
      "Row(Primary Type='CRIMINAL DAMAGE'): 756105\n",
      "Row(Primary Type='WEAPONS VIOLATION'): 67603\n",
      "Row(Primary Type='NARCOTICS'): 703977\n",
      "Row(Primary Type='DOMESTIC VIOLENCE'): 1\n",
      "Row(Primary Type='HOMICIDE'): 9077\n",
      "Row(Primary Type='RITUALISM'): 23\n",
      "Row(Primary Type='THEFT'): 1381925\n",
      "Row(Primary Type='OTHER NARCOTIC VIOLATION'): 123\n",
      "Row(Primary Type='ASSAULT'): 407285\n",
      "Row(Primary Type='DECEPTIVE PRACTICE'): 251899\n",
      "Row(Primary Type='OBSCENITY'): 533\n",
      "Row(Primary Type='GAMBLING'): 14254\n",
      "Row(Primary Type='LIQUOR LAW VIOLATION'): 13900\n",
      "Row(Primary Type='HUMAN TRAFFICKING'): 40\n"
     ]
    }
   ],
   "source": [
    "rdd = map_reduce(df,'Primary Type')\n",
    "print_rdd(rdd)"
   ]
  },
  {
   "cell_type": "markdown",
   "metadata": {},
   "source": [
    "# Domestic Crimes\n",
    "Percentage of the crimes that are domestic"
   ]
  },
  {
   "cell_type": "code",
   "execution_count": 61,
   "metadata": {},
   "outputs": [
    {
     "data": {
      "text/plain": [
       "13.046469952759393"
      ]
     },
     "execution_count": 61,
     "metadata": {},
     "output_type": "execute_result"
    }
   ],
   "source": [
    "df.filter(df['Domestic']==True).count()/df.count()*100"
   ]
  },
  {
   "cell_type": "markdown",
   "metadata": {},
   "source": [
    "# Mapping Year\n",
    "Plot for the crimes happening over the years"
   ]
  },
  {
   "cell_type": "code",
   "execution_count": 62,
   "metadata": {},
   "outputs": [],
   "source": [
    "def map_reduce_year(df):\n",
    "    crime_type = df.select('Year')\n",
    "    rddcrime = crime_type.rdd\n",
    "    wordcounts= rddcrime.map(lambda w:(w,1)) \\\n",
    "        .reduceByKey(lambda a,b:a+b) \n",
    "    return wordcounts"
   ]
  },
  {
   "cell_type": "code",
   "execution_count": 64,
   "metadata": {},
   "outputs": [
    {
     "name": "stdout",
     "output_type": "stream",
     "text": [
      "Row(Year=2003): 475929\n",
      "Row(Year=2016): 268556\n",
      "Row(Year=2012): 335862\n",
      "Row(Year=2005): 453695\n",
      "Row(Year=2009): 392632\n",
      "Row(Year=2018): 85572\n",
      "Row(Year=2014): 275006\n",
      "Row(Year=2007): 436982\n",
      "Row(Year=2011): 351708\n",
      "Row(Year=2013): 306926\n",
      "Row(Year=2017): 267078\n",
      "Row(Year=2002): 486749\n",
      "Row(Year=2015): 263715\n",
      "Row(Year=2008): 427017\n",
      "Row(Year=2004): 469373\n",
      "Row(Year=2001): 485743\n",
      "Row(Year=2010): 370261\n",
      "Row(Year=2006): 448085\n"
     ]
    }
   ],
   "source": [
    "rdd2 = map_reduce_year(df)\n",
    "print_rdd(rdd2)"
   ]
  },
  {
   "cell_type": "code",
   "execution_count": 66,
   "metadata": {},
   "outputs": [
    {
     "data": {
      "text/html": [
       "<div>\n",
       "<style scoped>\n",
       "    .dataframe tbody tr th:only-of-type {\n",
       "        vertical-align: middle;\n",
       "    }\n",
       "\n",
       "    .dataframe tbody tr th {\n",
       "        vertical-align: top;\n",
       "    }\n",
       "\n",
       "    .dataframe thead th {\n",
       "        text-align: right;\n",
       "    }\n",
       "</style>\n",
       "<table border=\"1\" class=\"dataframe\">\n",
       "  <thead>\n",
       "    <tr style=\"text-align: right;\">\n",
       "      <th></th>\n",
       "      <th>Year</th>\n",
       "      <th>Frequency</th>\n",
       "    </tr>\n",
       "  </thead>\n",
       "  <tbody>\n",
       "    <tr>\n",
       "      <th>0</th>\n",
       "      <td>(2003,)</td>\n",
       "      <td>475929</td>\n",
       "    </tr>\n",
       "    <tr>\n",
       "      <th>1</th>\n",
       "      <td>(2016,)</td>\n",
       "      <td>268556</td>\n",
       "    </tr>\n",
       "    <tr>\n",
       "      <th>2</th>\n",
       "      <td>(2012,)</td>\n",
       "      <td>335862</td>\n",
       "    </tr>\n",
       "    <tr>\n",
       "      <th>3</th>\n",
       "      <td>(2005,)</td>\n",
       "      <td>453695</td>\n",
       "    </tr>\n",
       "    <tr>\n",
       "      <th>4</th>\n",
       "      <td>(2009,)</td>\n",
       "      <td>392632</td>\n",
       "    </tr>\n",
       "    <tr>\n",
       "      <th>5</th>\n",
       "      <td>(2018,)</td>\n",
       "      <td>85572</td>\n",
       "    </tr>\n",
       "    <tr>\n",
       "      <th>6</th>\n",
       "      <td>(2014,)</td>\n",
       "      <td>275006</td>\n",
       "    </tr>\n",
       "    <tr>\n",
       "      <th>7</th>\n",
       "      <td>(2007,)</td>\n",
       "      <td>436982</td>\n",
       "    </tr>\n",
       "    <tr>\n",
       "      <th>8</th>\n",
       "      <td>(2011,)</td>\n",
       "      <td>351708</td>\n",
       "    </tr>\n",
       "    <tr>\n",
       "      <th>9</th>\n",
       "      <td>(2013,)</td>\n",
       "      <td>306926</td>\n",
       "    </tr>\n",
       "    <tr>\n",
       "      <th>10</th>\n",
       "      <td>(2017,)</td>\n",
       "      <td>267078</td>\n",
       "    </tr>\n",
       "    <tr>\n",
       "      <th>11</th>\n",
       "      <td>(2002,)</td>\n",
       "      <td>486749</td>\n",
       "    </tr>\n",
       "    <tr>\n",
       "      <th>12</th>\n",
       "      <td>(2015,)</td>\n",
       "      <td>263715</td>\n",
       "    </tr>\n",
       "    <tr>\n",
       "      <th>13</th>\n",
       "      <td>(2008,)</td>\n",
       "      <td>427017</td>\n",
       "    </tr>\n",
       "    <tr>\n",
       "      <th>14</th>\n",
       "      <td>(2004,)</td>\n",
       "      <td>469373</td>\n",
       "    </tr>\n",
       "    <tr>\n",
       "      <th>15</th>\n",
       "      <td>(2001,)</td>\n",
       "      <td>485743</td>\n",
       "    </tr>\n",
       "    <tr>\n",
       "      <th>16</th>\n",
       "      <td>(2010,)</td>\n",
       "      <td>370261</td>\n",
       "    </tr>\n",
       "    <tr>\n",
       "      <th>17</th>\n",
       "      <td>(2006,)</td>\n",
       "      <td>448085</td>\n",
       "    </tr>\n",
       "  </tbody>\n",
       "</table>\n",
       "</div>"
      ],
      "text/plain": [
       "       Year  Frequency\n",
       "0   (2003,)     475929\n",
       "1   (2016,)     268556\n",
       "2   (2012,)     335862\n",
       "3   (2005,)     453695\n",
       "4   (2009,)     392632\n",
       "5   (2018,)      85572\n",
       "6   (2014,)     275006\n",
       "7   (2007,)     436982\n",
       "8   (2011,)     351708\n",
       "9   (2013,)     306926\n",
       "10  (2017,)     267078\n",
       "11  (2002,)     486749\n",
       "12  (2015,)     263715\n",
       "13  (2008,)     427017\n",
       "14  (2004,)     469373\n",
       "15  (2001,)     485743\n",
       "16  (2010,)     370261\n",
       "17  (2006,)     448085"
      ]
     },
     "metadata": {},
     "output_type": "display_data"
    },
    {
     "data": {
      "image/png": "[encoded data removed]",
      "text/plain": [
       "<matplotlib.figure.Figure at 0x7f273ea400b8>"
      ]
     },
     "metadata": {},
     "output_type": "display_data"
    }
   ],
   "source": [
    "plotting_graph(rdd2,'Year','Frequency')"
   ]
  },
  {
   "cell_type": "code",
   "execution_count": 65,
   "metadata": {},
   "outputs": [],
   "source": []
  },
  {
   "cell_type": "code",
   "execution_count": 50,
   "metadata": {},
   "outputs": [],
   "source": [
    "spark.stop()"
   ]
  },
  {
   "cell_type": "code",
   "execution_count": null,
   "metadata": {},
   "outputs": [],
   "source": []
  }
 ],
 "metadata": {
  "kernelspec": {
   "display_name": "Python 3",
   "language": "python",
   "name": "python3"
  },
  "language_info": {
   "codemirror_mode": {
    "name": "ipython",
    "version": 3
   },
   "file_extension": ".py",
   "mimetype": "text/x-python",
   "name": "python",
   "nbconvert_exporter": "python",
   "pygments_lexer": "ipython3",
   "version": "3.5.2"
  }
 },
 "nbformat": 4,
 "nbformat_minor": 2
}
