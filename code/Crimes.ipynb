{
 "cells": [
  {
   "cell_type": "code",
   "execution_count": 51,
   "metadata": {},
   "outputs": [],
   "source": [
    "from pyspark.sql import SparkSession\n",
    "from pyspark.sql.types import *\n",
    "\n",
    "spark = SparkSession.builder \\\n",
    "         .master(\"spark://192.168.1.71:7077\") \\\n",
    "         .appName(\"Project\") \\\n",
    "         .config(\"spark.some.config.option\", \"some-value\") \\\n",
    "         .getOrCreate()\n",
    "        \n",
    "sc = spark.sparkContext"
   ]
  },
  {
   "cell_type": "markdown",
   "metadata": {},
   "source": [
    "# Chicago dataset\n",
    "We used Crimes dataset from city of chicago portal and it contains many relevant information associated with each of the crime\n",
    "that has occurred in chicago from year 2001 to till now. We are plotting the graph for number of times a particular crimes has \n",
    "occurred in chicago, what is the frequency of the crime in a year from 2001 to 2018."
   ]
  },
  {
   "cell_type": "code",
   "execution_count": 52,
   "metadata": {
    "scrolled": false
   },
   "outputs": [],
   "source": [
    "#reading the csv file\n",
    "df = spark.read.csv('Crimes.csv', header=True, inferSchema=True)"
   ]
  },
  {
   "cell_type": "code",
   "execution_count": 87,
   "metadata": {
    "scrolled": true
   },
   "outputs": [
    {
     "name": "stdout",
     "output_type": "stream",
     "text": [
      "root\n",
      " |-- ID: integer (nullable = true)\n",
      " |-- Case Number: string (nullable = true)\n",
      " |-- Date: string (nullable = true)\n",
      " |-- Block: string (nullable = true)\n",
      " |-- IUCR: string (nullable = true)\n",
      " |-- Primary Type: string (nullable = true)\n",
      " |-- Description: string (nullable = true)\n",
      " |-- Location Description: string (nullable = true)\n",
      " |-- Arrest: boolean (nullable = true)\n",
      " |-- Domestic: boolean (nullable = true)\n",
      " |-- Beat: integer (nullable = true)\n",
      " |-- District: integer (nullable = true)\n",
      " |-- Ward: integer (nullable = true)\n",
      " |-- Community Area: integer (nullable = true)\n",
      " |-- FBI Code: string (nullable = true)\n",
      " |-- X Coordinate: integer (nullable = true)\n",
      " |-- Y Coordinate: integer (nullable = true)\n",
      " |-- Year: integer (nullable = true)\n",
      " |-- Updated On: string (nullable = true)\n",
      " |-- Latitude: double (nullable = true)\n",
      " |-- Longitude: double (nullable = true)\n",
      " |-- Location: string (nullable = true)\n",
      "\n",
      "None\n"
     ]
    }
   ],
   "source": [
    "#df2 is 2.9 gb\n",
    "#df2 = df.union(df)\n",
    "print(df.printSchema())"
   ]
  },
  {
   "cell_type": "code",
   "execution_count": 37,
   "metadata": {},
   "outputs": [],
   "source": [
    "#df3 is 5.8 gb\n",
    "df3 = df2.union(df2)"
   ]
  },
  {
   "cell_type": "code",
   "execution_count": 47,
   "metadata": {},
   "outputs": [
    {
     "data": {
      "text/plain": [
       "52807112"
      ]
     },
     "execution_count": 47,
     "metadata": {},
     "output_type": "execute_result"
    }
   ],
   "source": [
    "df4 = df3.union(df3)\n",
    "df4.count()"
   ]
  },
  {
   "cell_type": "markdown",
   "metadata": {},
   "source": [
    "# Print RDD\n",
    "For printing out the rdd on which map reduce according to the column has been performed"
   ]
  },
  {
   "cell_type": "code",
   "execution_count": 53,
   "metadata": {},
   "outputs": [],
   "source": [
    "#For printing the rdd just paas the rdd object to print_rdd function\n",
    "def print_rdd(output):\n",
    "    for (word,count) in output.collect():\n",
    "        print(\"%s: %i\" % (word,count))\n",
    "    "
   ]
  },
  {
   "cell_type": "markdown",
   "metadata": {},
   "source": [
    "# Performing Map Reduce\n",
    "Paas the dataframe to the below function and the column name which you want to reduce it. It will return the rdd object."
   ]
  },
  {
   "cell_type": "code",
   "execution_count": 125,
   "metadata": {},
   "outputs": [],
   "source": [
    "def map_reduce(df,x):\n",
    "    crime_type = df.select(x)\n",
    "    rddcrime = crime_type.rdd\n",
    "    wordcounts= rddcrime.map(lambda w:(w,1)) \\\n",
    "        .reduceByKey(lambda a,b:a+b)\n",
    "    return wordcounts"
   ]
  },
  {
   "cell_type": "markdown",
   "metadata": {},
   "source": [
    "# Plotting RDD\n",
    "Use below function to plot the rdd and paas the column name which you want in x and y axis while calling this function."
   ]
  },
  {
   "cell_type": "code",
   "execution_count": 83,
   "metadata": {},
   "outputs": [],
   "source": [
    "def plotting_graph(rdd,x,y): \n",
    "    #Plotting the graph for number of crimes and frequency\n",
    "    schemaPeople = spark.createDataFrame(rdd)\n",
    "\n",
    "    #renaming the column in dataframe\n",
    "    schemaPeople = schemaPeople.withColumnRenamed('_1',x)\n",
    "    schemaPeople = schemaPeople.withColumnRenamed('_2',y)\n",
    "\n",
    "    schemaPanda = schemaPeople.toPandas()\n",
    "    schemaPanda.plot.bar(x =x, y =y, colormap = 'summer',figsize=(10,7))"
   ]
  },
  {
   "cell_type": "markdown",
   "metadata": {},
   "source": [
    "# Mapping Crime Type\n",
    "Performed map reduce on Primary Type columns. It returns the number of times the particular crime has occured in chicago\n",
    "from year 2001 to till now"
   ]
  },
  {
   "cell_type": "code",
   "execution_count": 70,
   "metadata": {},
   "outputs": [
    {
     "name": "stdout",
     "output_type": "stream",
     "text": [
      "Row(Primary Type='INTIMIDATION'): 3832\n",
      "Row(Primary Type='NON-CRIMINAL'): 145\n",
      "Row(Primary Type='PUBLIC PEACE VIOLATION'): 47054\n",
      "Row(Primary Type='BATTERY'): 1204701\n",
      "Row(Primary Type='SEX OFFENSE'): 24392\n",
      "Row(Primary Type='NON-CRIMINAL (SUBJECT SPECIFIED)'): 7\n",
      "Row(Primary Type='CONCEALED CARRY LICENSE VIOLATION'): 187\n",
      "Row(Primary Type='STALKING'): 3258\n",
      "Row(Primary Type='MOTOR VEHICLE THEFT'): 309026\n",
      "Row(Primary Type='OFFENSE INVOLVING CHILDREN'): 44061\n",
      "Row(Primary Type='BURGLARY'): 381486\n",
      "Row(Primary Type='KIDNAPPING'): 6579\n",
      "Row(Primary Type='CRIMINAL TRESPASS'): 189822\n",
      "Row(Primary Type='ARSON'): 10933\n",
      "Row(Primary Type='OTHER OFFENSE'): 409517\n",
      "Row(Primary Type='PUBLIC INDECENCY'): 154\n",
      "Row(Primary Type='PROSTITUTION'): 67920\n",
      "Row(Primary Type='ROBBERY'): 250499\n",
      "Row(Primary Type='CRIM SEXUAL ASSAULT'): 26100\n",
      "Row(Primary Type='INTERFERENCE WITH PUBLIC OFFICER'): 14433\n",
      "Row(Primary Type='NON - CRIMINAL'): 38\n",
      "Row(Primary Type='CRIMINAL DAMAGE'): 756105\n",
      "Row(Primary Type='WEAPONS VIOLATION'): 67603\n",
      "Row(Primary Type='NARCOTICS'): 703977\n",
      "Row(Primary Type='DOMESTIC VIOLENCE'): 1\n",
      "Row(Primary Type='HOMICIDE'): 9077\n",
      "Row(Primary Type='RITUALISM'): 23\n",
      "Row(Primary Type='THEFT'): 1381925\n",
      "Row(Primary Type='OTHER NARCOTIC VIOLATION'): 123\n",
      "Row(Primary Type='ASSAULT'): 407285\n",
      "Row(Primary Type='DECEPTIVE PRACTICE'): 251899\n",
      "Row(Primary Type='OBSCENITY'): 533\n",
      "Row(Primary Type='GAMBLING'): 14254\n",
      "Row(Primary Type='LIQUOR LAW VIOLATION'): 13900\n",
      "Row(Primary Type='HUMAN TRAFFICKING'): 40\n"
     ]
    }
   ],
   "source": [
    "rdd = map_reduce(df,'Primary Type')\n",
    "print_rdd(rdd)"
   ]
  },
  {
   "cell_type": "code",
   "execution_count": 86,
   "metadata": {},
   "outputs": [
    {
     "data": {
      "image/png": "[encoded data removed]",
      "text/plain": [
       "<matplotlib.figure.Figure at 0x7f273e6a8550>"
      ]
     },
     "metadata": {},
     "output_type": "display_data"
    }
   ],
   "source": [
    "plotting_graph(rdd,'Primary Type','Frequency')"
   ]
  },
  {
   "cell_type": "markdown",
   "metadata": {},
   "source": [
    "# Domestic Crimes\n",
    "Percentage of the crimes that are domestic"
   ]
  },
  {
   "cell_type": "code",
   "execution_count": 61,
   "metadata": {},
   "outputs": [
    {
     "data": {
      "text/plain": [
       "13.046469952759393"
      ]
     },
     "execution_count": 61,
     "metadata": {},
     "output_type": "execute_result"
    }
   ],
   "source": [
    "df.filter(df['Domestic']==True).count()/df.count()*100"
   ]
  },
  {
   "cell_type": "markdown",
   "metadata": {},
   "source": [
    "# Mapping Year\n",
    "Plot for the crimes happening over the years"
   ]
  },
  {
   "cell_type": "code",
   "execution_count": 122,
   "metadata": {},
   "outputs": [],
   "source": [
    "def map_reduce_year(df):\n",
    "    crime_type = df.select('Year')\n",
    "    rddcrime = crime_type.rdd\n",
    "    wordcounts= rddcrime.map(lambda w:(w,1)) \\\n",
    "        .reduceByKey(lambda a,b:a+b)\\\n",
    "        .sortBy(lambda x: x[0])\n",
    "    return wordcounts"
   ]
  },
  {
   "cell_type": "code",
   "execution_count": 92,
   "metadata": {},
   "outputs": [
    {
     "name": "stdout",
     "output_type": "stream",
     "text": [
      "Row(Year=2003): 475929\n",
      "Row(Year=2016): 268556\n",
      "Row(Year=2012): 335862\n",
      "Row(Year=2005): 453695\n",
      "Row(Year=2009): 392632\n",
      "Row(Year=2018): 85572\n",
      "Row(Year=2014): 275006\n",
      "Row(Year=2007): 436982\n",
      "Row(Year=2011): 351708\n",
      "Row(Year=2013): 306926\n",
      "Row(Year=2017): 267078\n",
      "Row(Year=2002): 486749\n",
      "Row(Year=2015): 263715\n",
      "Row(Year=2008): 427017\n",
      "Row(Year=2004): 469373\n",
      "Row(Year=2001): 485743\n",
      "Row(Year=2010): 370261\n",
      "Row(Year=2006): 448085\n"
     ]
    }
   ],
   "source": [
    "rdd2 = map_reduce(df,'Year')\n",
    "print_rdd(rdd2)"
   ]
  },
  {
   "cell_type": "code",
   "execution_count": 84,
   "metadata": {},
   "outputs": [
    {
     "data": {
      "image/png": "[encoded data removed]",
      "text/plain": [
       "<matplotlib.figure.Figure at 0x7f273e413588>"
      ]
     },
     "metadata": {},
     "output_type": "display_data"
    }
   ],
   "source": [
    "plotting_graph(rdd2,'Year','Frequency')\n"
   ]
  },
  {
   "cell_type": "code",
   "execution_count": 99,
   "metadata": {},
   "outputs": [
    {
     "name": "stdout",
     "output_type": "stream",
     "text": [
      "+--------------------+--------------------+\n",
      "|                Date|        Primary Type|\n",
      "+--------------------+--------------------+\n",
      "|03/18/2015 07:44:...|             BATTERY|\n",
      "|03/18/2015 11:00:...|       OTHER OFFENSE|\n",
      "|03/18/2015 10:45:...|             BATTERY|\n",
      "|03/18/2015 10:30:...|             BATTERY|\n",
      "|03/18/2015 09:00:...|             ROBBERY|\n",
      "|03/18/2015 10:00:...|             BATTERY|\n",
      "|03/18/2015 11:00:...|             BATTERY|\n",
      "|03/18/2015 09:35:...|             BATTERY|\n",
      "|03/18/2015 10:09:...|           NARCOTICS|\n",
      "|03/18/2015 09:25:...|             BATTERY|\n",
      "|03/18/2015 09:30:...|     CRIMINAL DAMAGE|\n",
      "|03/15/2015 04:10:...|       OTHER OFFENSE|\n",
      "|03/18/2015 09:14:...|   WEAPONS VIOLATION|\n",
      "|03/18/2015 10:50:...|             BATTERY|\n",
      "|03/18/2015 10:31:...|               THEFT|\n",
      "|03/18/2015 12:55:...|            BURGLARY|\n",
      "|03/18/2015 08:00:...| MOTOR VEHICLE THEFT|\n",
      "|03/18/2015 09:00:...|               THEFT|\n",
      "|03/18/2015 10:56:...|PUBLIC PEACE VIOL...|\n",
      "|03/18/2015 10:45:...|               THEFT|\n",
      "+--------------------+--------------------+\n",
      "only showing top 20 rows\n",
      "\n"
     ]
    }
   ],
   "source": [
    "df_date = df.select('Date','Primary Type').show()"
   ]
  },
  {
   "cell_type": "markdown",
   "metadata": {},
   "source": [
    "# Plotting Number of Crimes by Month\n",
    "Using udf splitting date column and then returning month name according to the month number"
   ]
  },
  {
   "cell_type": "code",
   "execution_count": 118,
   "metadata": {},
   "outputs": [
    {
     "name": "stdout",
     "output_type": "stream",
     "text": [
      "+--------------------+-----+\n",
      "|                Date|Month|\n",
      "+--------------------+-----+\n",
      "|03/18/2015 07:44:...|March|\n",
      "|03/18/2015 11:00:...|March|\n",
      "|03/18/2015 10:45:...|March|\n",
      "|03/18/2015 10:30:...|March|\n",
      "|03/18/2015 09:00:...|March|\n",
      "|03/18/2015 10:00:...|March|\n",
      "|03/18/2015 11:00:...|March|\n",
      "|03/18/2015 09:35:...|March|\n",
      "|03/18/2015 10:09:...|March|\n",
      "|03/18/2015 09:25:...|March|\n",
      "|03/18/2015 09:30:...|March|\n",
      "|03/15/2015 04:10:...|March|\n",
      "|03/18/2015 09:14:...|March|\n",
      "|03/18/2015 10:50:...|March|\n",
      "|03/18/2015 10:31:...|March|\n",
      "|03/18/2015 12:55:...|March|\n",
      "|03/18/2015 08:00:...|March|\n",
      "|03/18/2015 09:00:...|March|\n",
      "|03/18/2015 10:56:...|March|\n",
      "|03/18/2015 10:45:...|March|\n",
      "+--------------------+-----+\n",
      "only showing top 20 rows\n",
      "\n"
     ]
    }
   ],
   "source": [
    "from pyspark.sql.functions import udf\n",
    "def date_format(SicCodes_Str):\n",
    "        m = SicCodes_Str.split('/')[0]\n",
    "        if m == '01':\n",
    "            return 'Jan'\n",
    "        if m == '02':\n",
    "            return 'Feb'\n",
    "        if m == '03':\n",
    "            return 'March'\n",
    "        if m == '04':\n",
    "            return 'April'\n",
    "        if m == '05':\n",
    "            return 'May'\n",
    "        if m == '06':\n",
    "            return 'June'\n",
    "        if m == '07':\n",
    "            return 'July'\n",
    "        if m == '08':\n",
    "            return 'August'\n",
    "        if m == '09':\n",
    "            return 'Sep'\n",
    "        if m == '10':\n",
    "            return 'Oct'\n",
    "        if m == '11':\n",
    "            return 'Nov'\n",
    "        if m == '12':\n",
    "            return 'Dec'\n",
    "  \n",
    "\n",
    "udf_date = udf(date_format, StringType())\n",
    "\n",
    "\n",
    "df = df.withColumn(\"Month\",udf_date(\"Date\"))\n",
    "\n",
    "df.select('Date','Month').show()"
   ]
  },
  {
   "cell_type": "code",
   "execution_count": 126,
   "metadata": {},
   "outputs": [
    {
     "name": "stdout",
     "output_type": "stream",
     "text": [
      "Row(Month='Feb'): 463518\n",
      "Row(Month='Jan'): 527797\n",
      "Row(Month='August'): 599165\n",
      "Row(Month='March'): 556954\n",
      "Row(Month='May'): 585909\n",
      "Row(Month='June'): 575915\n",
      "Row(Month='Dec'): 482575\n",
      "Row(Month='Oct'): 570047\n",
      "Row(Month='April'): 558292\n",
      "Row(Month='Sep'): 562538\n",
      "Row(Month='Nov'): 512834\n",
      "Row(Month='July'): 605345\n"
     ]
    }
   ],
   "source": [
    "rdd3 = map_reduce(df,'Month')\n",
    "print_rdd(rdd3)"
   ]
  },
  {
   "cell_type": "code",
   "execution_count": 127,
   "metadata": {},
   "outputs": [
    {
     "data": {
      "image/png": "[encoded data removed]",
      "text/plain": [
       "<matplotlib.figure.Figure at 0x7f273e6fee48>"
      ]
     },
     "metadata": {},
     "output_type": "display_data"
    }
   ],
   "source": [
    "plotting_graph(rdd3,'Month Name','Frequency')"
   ]
  },
  {
   "cell_type": "code",
   "execution_count": 50,
   "metadata": {},
   "outputs": [],
   "source": [
    "spark.stop()"
   ]
  }
 ],
 "metadata": {
  "kernelspec": {
   "display_name": "Python 3",
   "language": "python",
   "name": "python3"
  },
  "language_info": {
   "codemirror_mode": {
    "name": "ipython",
    "version": 3
   },
   "file_extension": ".py",
   "mimetype": "text/x-python",
   "name": "python",
   "nbconvert_exporter": "python",
   "pygments_lexer": "ipython3",
   "version": "3.5.2"
  }
 },
 "nbformat": 4,
 "nbformat_minor": 2
}
