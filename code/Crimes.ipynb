{
 "cells": [
  {
   "cell_type": "code",
   "execution_count": 53,
   "metadata": {},
   "outputs": [],
   "source": [
    "from pyspark.sql import SparkSession\n",
    "from pyspark.sql.types import *\n",
    "\n",
    "spark = SparkSession.builder \\\n",
    "         .master(\"local\") \\\n",
    "         .appName(\"Project\") \\\n",
    "         .config(\"spark.some.config.option\", \"some-value\") \\\n",
    "         .getOrCreate()\n",
    "        \n",
    "sc = spark.sparkContext"
   ]
  },
  {
   "cell_type": "code",
   "execution_count": 54,
   "metadata": {
    "scrolled": false
   },
   "outputs": [
    {
     "name": "stdout",
     "output_type": "stream",
     "text": [
      "+--------+-----------+--------------------+--------------------+----+--------------------+--------------------+--------------------+------+--------+----+--------+----+--------------+--------+------------+------------+----+--------------------+------------+-------------+--------------------+\n",
      "|      ID|Case Number|                Date|               Block|IUCR|        Primary Type|         Description|Location Description|Arrest|Domestic|Beat|District|Ward|Community Area|FBI Code|X Coordinate|Y Coordinate|Year|          Updated On|    Latitude|    Longitude|            Location|\n",
      "+--------+-----------+--------------------+--------------------+----+--------------------+--------------------+--------------------+------+--------+----+--------+----+--------------+--------+------------+------------+----+--------------------+------------+-------------+--------------------+\n",
      "|10000092|   HY189866|03/18/2015 07:44:...|     047XX W OHIO ST|041A|             BATTERY| AGGRAVATED: HANDGUN|              STREET| false|   false|1111|      11|  28|            25|     04B|     1144606|     1903566|2015|02/10/2018 03:50:...|41.891398861|-87.744384567|(41.891398861, -8...|\n",
      "|10000094|   HY190059|03/18/2015 11:00:...|066XX S MARSHFIEL...|4625|       OTHER OFFENSE|    PAROLE VIOLATION|              STREET|  true|   false| 725|       7|  15|            67|      26|     1166468|     1860715|2015|02/10/2018 03:50:...|41.773371528|-87.665319468|(41.773371528, -8...|\n",
      "|10000095|   HY190052|03/18/2015 10:45:...|044XX S LAKE PARK...|0486|             BATTERY|DOMESTIC BATTERY ...|           APARTMENT| false|    true| 222|       2|   4|            39|     08B|     1185075|     1875622|2015|02/10/2018 03:50:...| 41.81386068|-87.596642837|(41.81386068, -87...|\n",
      "|10000096|   HY190054|03/18/2015 10:30:...|051XX S MICHIGAN AVE|0460|             BATTERY|              SIMPLE|           APARTMENT| false|   false| 225|       2|   3|            40|     08B|     1178033|     1870804|2015|02/10/2018 03:50:...|41.800802415|-87.622619343|(41.800802415, -8...|\n",
      "|10000097|   HY189976|03/18/2015 09:00:...|    047XX W ADAMS ST|031A|             ROBBERY|      ARMED: HANDGUN|            SIDEWALK| false|   false|1113|      11|  28|            25|      03|     1144920|     1898709|2015|02/10/2018 03:50:...|41.878064761|-87.743354013|(41.878064761, -8...|\n",
      "|10000098|   HY190032|03/18/2015 10:00:...| 049XX S DREXEL BLVD|0460|             BATTERY|              SIMPLE|           APARTMENT| false|   false| 223|       2|   4|            39|     08B|     1183018|     1872537|2015|02/10/2018 03:50:...|41.805443345|-87.604283976|(41.805443345, -8...|\n",
      "|10000099|   HY190047|03/18/2015 11:00:...|   070XX S MORGAN ST|0486|             BATTERY|DOMESTIC BATTERY ...|           APARTMENT| false|    true| 733|       7|  17|            68|     08B|     1170859|     1858210|2015|02/10/2018 03:50:...|41.766402779|-87.649296123|(41.766402779, -8...|\n",
      "|10000100|   HY189988|03/18/2015 09:35:...| 042XX S PRAIRIE AVE|0486|             BATTERY|DOMESTIC BATTERY ...|           APARTMENT| false|    true| 213|       2|   3|            38|     08B|     1178746|     1876914|2015|02/10/2018 03:50:...|41.817552577|-87.619818523|(41.817552577, -8...|\n",
      "|10000101|   HY190020|03/18/2015 10:09:...| 036XX S WOLCOTT AVE|1811|           NARCOTICS|POSS: CANNABIS 30...|              STREET|  true|   false| 912|       9|  11|            59|      18|     1164279|     1880656|2015|02/10/2018 03:50:...|41.828138428|-87.672782106|(41.828138428, -8...|\n",
      "|10000104|   HY189964|03/18/2015 09:25:...| 097XX S PRAIRIE AVE|0460|             BATTERY|              SIMPLE|RESIDENCE PORCH/H...| false|   false| 511|       5|   6|            49|     08B|     1179637|     1840444|2015|02/10/2018 03:50:...| 41.71745472|-87.617663257|(41.71745472, -87...|\n",
      "|10000105|   HY189984|03/18/2015 09:30:...|130XX S DR MARTIN...|1320|     CRIMINAL DAMAGE|          TO VEHICLE|PARKING LOT/GARAG...| false|   false| 533|       5|   9|            54|      14|     1180907|     1818839|2015|02/10/2018 03:50:...|41.658138493|-87.613672862|(41.658138493, -8...|\n",
      "|10000108|   HY189719|03/15/2015 04:10:...|078XX S VINCENNES...|2825|       OTHER OFFENSE|HARASSMENT BY TEL...|CTA GARAGE / OTHE...| false|    true| 623|       6|  17|            69|      26|     1175130|     1853144|2015|02/10/2018 03:50:...|41.752406801|-87.633792381|(41.752406801, -8...|\n",
      "|10000109|   HY189966|03/18/2015 09:14:...|086XX S EXCHANGE AVE|143A|   WEAPONS VIOLATION|UNLAWFUL POSS OF ...|DRIVEWAY - RESIDE...|  true|   false| 423|       4|  10|            46|      15|     1197309|     1848290|2015|02/10/2018 03:50:...|41.738563465|-87.552678593|(41.738563465, -8...|\n",
      "|10000110|   HY190056|03/18/2015 10:50:...| 014XX S ASHLAND AVE|0460|             BATTERY|              SIMPLE|            SIDEWALK| false|   false|1233|      12|   2|            28|     08B|     1165950|     1893388|2015|02/10/2018 03:50:...| 41.86304084|-87.666288555|(41.86304084, -87...|\n",
      "|10000111|   HY190019|03/18/2015 10:31:...| 051XX W CHICAGO AVE|0860|               THEFT|        RETAIL THEFT|         GAS STATION|  true|   false|1531|      15|  37|            25|      06|     1141741|     1904839|2015|02/10/2018 03:50:...|41.894945606|-87.754874977|(41.894945606, -8...|\n",
      "|10000112|   HY189725|03/18/2015 12:55:...|077XX S KINGSTON AVE|0610|            BURGLARY|      FORCIBLE ENTRY|           APARTMENT| false|   false| 421|       4|   7|            43|      05|     1194535|     1854110|2015|02/10/2018 03:50:...|41.754602618|-87.562650741|(41.754602618, -8...|\n",
      "|10000114|   HY190071|03/18/2015 08:00:...|   024XX W NORTH AVE|0910| MOTOR VEHICLE THEFT|          AUTOMOBILE|               OTHER| false|   false|1423|      14|   1|            24|      07|     1159959|     1910569|2015|02/10/2018 03:50:...|41.910312648|-87.687806494|(41.910312648, -8...|\n",
      "|10000115|   HY190036|03/18/2015 09:00:...| 069XX S LOOMIS BLVD|0890|               THEFT|       FROM BUILDING|  GROCERY FOOD STORE| false|   false| 734|       7|  17|            67|      06|     1168192|     1858832|2015|02/10/2018 03:50:...|41.768167414|-87.659053795|(41.768167414, -8...|\n",
      "|10000116|   HY190063|03/18/2015 10:56:...|105XX S LAFAYETTE...|0470|PUBLIC PEACE VIOL...|    RECKLESS CONDUCT|               ALLEY|  true|   false| 512|       5|  34|            49|      24|     1177790|     1835106|2015|02/10/2018 03:50:...| 41.70284845|-87.624588931|(41.70284845, -87...|\n",
      "|10000117|   HY190068|03/18/2015 10:45:...| 087XX S KIMBARK AVE|0890|               THEFT|       FROM BUILDING|       BAR OR TAVERN| false|   false| 412|       4|   8|            48|      06|     1186312|     1847473|2015|02/10/2018 03:50:...|41.736588206| -87.59299436|(41.736588206, -8...|\n",
      "+--------+-----------+--------------------+--------------------+----+--------------------+--------------------+--------------------+------+--------+----+--------+----+--------------+--------+------------+------------+----+--------------------+------------+-------------+--------------------+\n",
      "only showing top 20 rows\n",
      "\n"
     ]
    }
   ],
   "source": [
    "from pyspark.sql.types import *\n",
    "\n",
    "df = spark.read.csv('Crimes.csv', header=True, inferSchema=True)\n",
    "df.show()\n",
    "#df.collect()"
   ]
  },
  {
   "cell_type": "code",
   "execution_count": 12,
   "metadata": {},
   "outputs": [],
   "source": [
    "spark.catalog.clearCache()"
   ]
  },
  {
   "cell_type": "markdown",
   "metadata": {},
   "source": [
    "# Code not used"
   ]
  },
  {
   "cell_type": "code",
   "execution_count": null,
   "metadata": {},
   "outputs": [],
   "source": [
    "# from pyspark.sql.types import  (StructType, \n",
    "                                StructField, \n",
    "                                DateType, \n",
    "                                BooleanType,\n",
    "                                DoubleType,\n",
    "                                IntegerType,\n",
    "                                StringType,\n",
    "                               TimestampType)\n",
    "crimes_schema = StructType([StructField(\"ID\", StringType(), True),\n",
    "                            StructField(\"CaseNumber\", StringType(), True),\n",
    "                            StructField(\"Date\", StringType(), True ),\n",
    "                            StructField(\"Block\", StringType(), True),\n",
    "                            StructField(\"IUCR\", StringType(), True),\n",
    "                            StructField(\"PrimaryType\", StringType(), True  ),\n",
    "                            StructField(\"Description\", StringType(), True ),\n",
    "                            StructField(\"LocationDescription\", StringType(), True ),\n",
    "                            StructField(\"Arrest\", BooleanType(), True),\n",
    "                            StructField(\"Domestic\", BooleanType(), True),\n",
    "                            StructField(\"Beat\", StringType(), True),\n",
    "                            StructField(\"District\", StringType(), True),\n",
    "                            StructField(\"Ward\", StringType(), True),\n",
    "                            StructField(\"CommunityArea\", StringType(), True),\n",
    "                            StructField(\"FBICode\", StringType(), True ),\n",
    "                            StructField(\"XCoordinate\", DoubleType(), True),\n",
    "                            StructField(\"YCoordinate\", DoubleType(), True ),\n",
    "                            StructField(\"Year\", IntegerType(), True),\n",
    "                            StructField(\"UpdatedOn\", DateType(), True ),\n",
    "                            StructField(\"Latitude\", DoubleType(), True),\n",
    "                            StructField(\"Longitude\", DoubleType(), True),\n",
    "                            StructField(\"Location\", StringType(), True )\n",
    "                            ])"
   ]
  },
  {
   "cell_type": "markdown",
   "metadata": {},
   "source": [
    "# Not used"
   ]
  },
  {
   "cell_type": "code",
   "execution_count": 15,
   "metadata": {},
   "outputs": [],
   "source": [
    "crimes = spark.read.csv(\"mini_crimes.csv\",\n",
    "                       header = True, \n",
    "                        schema = crimes_schema)"
   ]
  },
  {
   "cell_type": "code",
   "execution_count": 55,
   "metadata": {},
   "outputs": [],
   "source": [
    "#crimes.show()"
   ]
  },
  {
   "cell_type": "code",
   "execution_count": 56,
   "metadata": {},
   "outputs": [
    {
     "name": "stdout",
     "output_type": "stream",
     "text": [
      " The crimes dataframe has 6600889 records\n"
     ]
    }
   ],
   "source": [
    "print(\" The crimes dataframe has {} records\".format(df.count()))"
   ]
  },
  {
   "cell_type": "code",
   "execution_count": 57,
   "metadata": {},
   "outputs": [
    {
     "name": "stdout",
     "output_type": "stream",
     "text": [
      "root\n",
      " |-- ID: integer (nullable = true)\n",
      " |-- Case Number: string (nullable = true)\n",
      " |-- Date: string (nullable = true)\n",
      " |-- Block: string (nullable = true)\n",
      " |-- IUCR: string (nullable = true)\n",
      " |-- Primary Type: string (nullable = true)\n",
      " |-- Description: string (nullable = true)\n",
      " |-- Location Description: string (nullable = true)\n",
      " |-- Arrest: boolean (nullable = true)\n",
      " |-- Domestic: boolean (nullable = true)\n",
      " |-- Beat: integer (nullable = true)\n",
      " |-- District: integer (nullable = true)\n",
      " |-- Ward: integer (nullable = true)\n",
      " |-- Community Area: integer (nullable = true)\n",
      " |-- FBI Code: string (nullable = true)\n",
      " |-- X Coordinate: integer (nullable = true)\n",
      " |-- Y Coordinate: integer (nullable = true)\n",
      " |-- Year: integer (nullable = true)\n",
      " |-- Updated On: string (nullable = true)\n",
      " |-- Latitude: double (nullable = true)\n",
      " |-- Longitude: double (nullable = true)\n",
      " |-- Location: string (nullable = true)\n",
      "\n"
     ]
    }
   ],
   "source": [
    "df.printSchema()"
   ]
  },
  {
   "cell_type": "code",
   "execution_count": 58,
   "metadata": {},
   "outputs": [
    {
     "name": "stdout",
     "output_type": "stream",
     "text": [
      "+----------------------+------+\n",
      "|Block                 |Arrest|\n",
      "+----------------------+------+\n",
      "|047XX W OHIO ST       |false |\n",
      "|066XX S MARSHFIELD AVE|true  |\n",
      "|044XX S LAKE PARK AVE |false |\n",
      "|051XX S MICHIGAN AVE  |false |\n",
      "|047XX W ADAMS ST      |false |\n",
      "|049XX S DREXEL BLVD   |false |\n",
      "|070XX S MORGAN ST     |false |\n",
      "|042XX S PRAIRIE AVE   |false |\n",
      "|036XX S WOLCOTT AVE   |true  |\n",
      "|097XX S PRAIRIE AVE   |false |\n",
      "+----------------------+------+\n",
      "only showing top 10 rows\n",
      "\n"
     ]
    }
   ],
   "source": [
    "df.select(\"Block\",\"Arrest\").show(10, truncate = False)"
   ]
  },
  {
   "cell_type": "code",
   "execution_count": 59,
   "metadata": {},
   "outputs": [
    {
     "data": {
      "text/plain": [
       "35"
      ]
     },
     "execution_count": 59,
     "metadata": {},
     "output_type": "execute_result"
    }
   ],
   "source": [
    "df.select(\"Primary Type\").distinct().count()"
   ]
  },
  {
   "cell_type": "code",
   "execution_count": 60,
   "metadata": {
    "scrolled": true
   },
   "outputs": [
    {
     "data": {
      "text/plain": [
       "27.918754579875525"
      ]
     },
     "execution_count": 60,
     "metadata": {},
     "output_type": "execute_result"
    }
   ],
   "source": [
    "df.filter(df[\"Arrest\"]==True).count()/df.count() * 100"
   ]
  },
  {
   "cell_type": "code",
   "execution_count": 61,
   "metadata": {
    "scrolled": true
   },
   "outputs": [],
   "source": [
    "crime_type = df.select('Primary Type')"
   ]
  },
  {
   "cell_type": "code",
   "execution_count": 62,
   "metadata": {},
   "outputs": [
    {
     "name": "stdout",
     "output_type": "stream",
     "text": [
      "+--------------------+\n",
      "|        Primary Type|\n",
      "+--------------------+\n",
      "|             BATTERY|\n",
      "|       OTHER OFFENSE|\n",
      "|             BATTERY|\n",
      "|             BATTERY|\n",
      "|             ROBBERY|\n",
      "|             BATTERY|\n",
      "|             BATTERY|\n",
      "|             BATTERY|\n",
      "|           NARCOTICS|\n",
      "|             BATTERY|\n",
      "|     CRIMINAL DAMAGE|\n",
      "|       OTHER OFFENSE|\n",
      "|   WEAPONS VIOLATION|\n",
      "|             BATTERY|\n",
      "|               THEFT|\n",
      "|            BURGLARY|\n",
      "| MOTOR VEHICLE THEFT|\n",
      "|               THEFT|\n",
      "|PUBLIC PEACE VIOL...|\n",
      "|               THEFT|\n",
      "+--------------------+\n",
      "only showing top 20 rows\n",
      "\n"
     ]
    }
   ],
   "source": [
    "crime_type.show()"
   ]
  },
  {
   "cell_type": "code",
   "execution_count": 63,
   "metadata": {},
   "outputs": [],
   "source": [
    "rddcrime = crime_type.rdd\n",
    "wordcounts= rddcrime.map(lambda w:(w,1)) \\\n",
    "        .reduceByKey(lambda a,b:a+b) "
   ]
  },
  {
   "cell_type": "code",
   "execution_count": 64,
   "metadata": {},
   "outputs": [
    {
     "name": "stdout",
     "output_type": "stream",
     "text": [
      "Row(Primary Type='INTIMIDATION'): 3832\n",
      "Row(Primary Type='NON-CRIMINAL'): 145\n",
      "Row(Primary Type='PUBLIC PEACE VIOLATION'): 47054\n",
      "Row(Primary Type='BATTERY'): 1204701\n",
      "Row(Primary Type='SEX OFFENSE'): 24392\n",
      "Row(Primary Type='OFFENSE INVOLVING CHILDREN'): 44061\n",
      "Row(Primary Type='NON-CRIMINAL (SUBJECT SPECIFIED)'): 7\n",
      "Row(Primary Type='STALKING'): 3258\n",
      "Row(Primary Type='CONCEALED CARRY LICENSE VIOLATION'): 187\n",
      "Row(Primary Type='MOTOR VEHICLE THEFT'): 309026\n",
      "Row(Primary Type='BURGLARY'): 381486\n",
      "Row(Primary Type='KIDNAPPING'): 6579\n",
      "Row(Primary Type='CRIMINAL TRESPASS'): 189822\n",
      "Row(Primary Type='ARSON'): 10933\n",
      "Row(Primary Type='OTHER OFFENSE'): 409517\n",
      "Row(Primary Type='PUBLIC INDECENCY'): 154\n",
      "Row(Primary Type='PROSTITUTION'): 67920\n",
      "Row(Primary Type='ROBBERY'): 250499\n",
      "Row(Primary Type='CRIM SEXUAL ASSAULT'): 26100\n",
      "Row(Primary Type='INTERFERENCE WITH PUBLIC OFFICER'): 14433\n",
      "Row(Primary Type='NON - CRIMINAL'): 38\n",
      "Row(Primary Type='CRIMINAL DAMAGE'): 756105\n",
      "Row(Primary Type='WEAPONS VIOLATION'): 67603\n",
      "Row(Primary Type='NARCOTICS'): 703977\n",
      "Row(Primary Type='DOMESTIC VIOLENCE'): 1\n",
      "Row(Primary Type='HOMICIDE'): 9077\n",
      "Row(Primary Type='RITUALISM'): 23\n",
      "Row(Primary Type='THEFT'): 1381925\n",
      "Row(Primary Type='DECEPTIVE PRACTICE'): 251899\n",
      "Row(Primary Type='OTHER NARCOTIC VIOLATION'): 123\n",
      "Row(Primary Type='ASSAULT'): 407285\n",
      "Row(Primary Type='OBSCENITY'): 533\n",
      "Row(Primary Type='GAMBLING'): 14254\n",
      "Row(Primary Type='HUMAN TRAFFICKING'): 40\n",
      "Row(Primary Type='LIQUOR LAW VIOLATION'): 13900\n"
     ]
    }
   ],
   "source": [
    "for (word,count) in wordcounts.collect():\n",
    "    print(\"%s: %i\" % (word,count))"
   ]
  },
  {
   "cell_type": "code",
   "execution_count": 65,
   "metadata": {},
   "outputs": [
    {
     "data": {
      "text/plain": [
       "PythonRDD[271] at collect at <ipython-input-64-a8e47bf3a5e2>:1"
      ]
     },
     "execution_count": 65,
     "metadata": {},
     "output_type": "execute_result"
    }
   ],
   "source": [
    "wordcounts"
   ]
  },
  {
   "cell_type": "code",
   "execution_count": 66,
   "metadata": {},
   "outputs": [],
   "source": [
    "schemaPeople = spark.createDataFrame(wordcounts)"
   ]
  },
  {
   "cell_type": "code",
   "execution_count": 73,
   "metadata": {},
   "outputs": [
    {
     "data": {
      "text/html": [
       "<div>\n",
       "<style scoped>\n",
       "    .dataframe tbody tr th:only-of-type {\n",
       "        vertical-align: middle;\n",
       "    }\n",
       "\n",
       "    .dataframe tbody tr th {\n",
       "        vertical-align: top;\n",
       "    }\n",
       "\n",
       "    .dataframe thead th {\n",
       "        text-align: right;\n",
       "    }\n",
       "</style>\n",
       "<table border=\"1\" class=\"dataframe\">\n",
       "  <thead>\n",
       "    <tr style=\"text-align: right;\">\n",
       "      <th></th>\n",
       "      <th>Primary Type</th>\n",
       "      <th>Frequency</th>\n",
       "    </tr>\n",
       "  </thead>\n",
       "  <tbody>\n",
       "    <tr>\n",
       "      <th>0</th>\n",
       "      <td>(INTIMIDATION,)</td>\n",
       "      <td>3832</td>\n",
       "    </tr>\n",
       "    <tr>\n",
       "      <th>1</th>\n",
       "      <td>(NON-CRIMINAL,)</td>\n",
       "      <td>145</td>\n",
       "    </tr>\n",
       "    <tr>\n",
       "      <th>2</th>\n",
       "      <td>(PUBLIC PEACE VIOLATION,)</td>\n",
       "      <td>47054</td>\n",
       "    </tr>\n",
       "    <tr>\n",
       "      <th>3</th>\n",
       "      <td>(BATTERY,)</td>\n",
       "      <td>1204701</td>\n",
       "    </tr>\n",
       "    <tr>\n",
       "      <th>4</th>\n",
       "      <td>(SEX OFFENSE,)</td>\n",
       "      <td>24392</td>\n",
       "    </tr>\n",
       "    <tr>\n",
       "      <th>5</th>\n",
       "      <td>(OFFENSE INVOLVING CHILDREN,)</td>\n",
       "      <td>44061</td>\n",
       "    </tr>\n",
       "    <tr>\n",
       "      <th>6</th>\n",
       "      <td>(NON-CRIMINAL (SUBJECT SPECIFIED),)</td>\n",
       "      <td>7</td>\n",
       "    </tr>\n",
       "    <tr>\n",
       "      <th>7</th>\n",
       "      <td>(STALKING,)</td>\n",
       "      <td>3258</td>\n",
       "    </tr>\n",
       "    <tr>\n",
       "      <th>8</th>\n",
       "      <td>(CONCEALED CARRY LICENSE VIOLATION,)</td>\n",
       "      <td>187</td>\n",
       "    </tr>\n",
       "    <tr>\n",
       "      <th>9</th>\n",
       "      <td>(MOTOR VEHICLE THEFT,)</td>\n",
       "      <td>309026</td>\n",
       "    </tr>\n",
       "    <tr>\n",
       "      <th>10</th>\n",
       "      <td>(BURGLARY,)</td>\n",
       "      <td>381486</td>\n",
       "    </tr>\n",
       "    <tr>\n",
       "      <th>11</th>\n",
       "      <td>(KIDNAPPING,)</td>\n",
       "      <td>6579</td>\n",
       "    </tr>\n",
       "    <tr>\n",
       "      <th>12</th>\n",
       "      <td>(CRIMINAL TRESPASS,)</td>\n",
       "      <td>189822</td>\n",
       "    </tr>\n",
       "    <tr>\n",
       "      <th>13</th>\n",
       "      <td>(ARSON,)</td>\n",
       "      <td>10933</td>\n",
       "    </tr>\n",
       "    <tr>\n",
       "      <th>14</th>\n",
       "      <td>(OTHER OFFENSE,)</td>\n",
       "      <td>409517</td>\n",
       "    </tr>\n",
       "    <tr>\n",
       "      <th>15</th>\n",
       "      <td>(PUBLIC INDECENCY,)</td>\n",
       "      <td>154</td>\n",
       "    </tr>\n",
       "    <tr>\n",
       "      <th>16</th>\n",
       "      <td>(PROSTITUTION,)</td>\n",
       "      <td>67920</td>\n",
       "    </tr>\n",
       "    <tr>\n",
       "      <th>17</th>\n",
       "      <td>(ROBBERY,)</td>\n",
       "      <td>250499</td>\n",
       "    </tr>\n",
       "    <tr>\n",
       "      <th>18</th>\n",
       "      <td>(CRIM SEXUAL ASSAULT,)</td>\n",
       "      <td>26100</td>\n",
       "    </tr>\n",
       "    <tr>\n",
       "      <th>19</th>\n",
       "      <td>(INTERFERENCE WITH PUBLIC OFFICER,)</td>\n",
       "      <td>14433</td>\n",
       "    </tr>\n",
       "    <tr>\n",
       "      <th>20</th>\n",
       "      <td>(NON - CRIMINAL,)</td>\n",
       "      <td>38</td>\n",
       "    </tr>\n",
       "    <tr>\n",
       "      <th>21</th>\n",
       "      <td>(CRIMINAL DAMAGE,)</td>\n",
       "      <td>756105</td>\n",
       "    </tr>\n",
       "    <tr>\n",
       "      <th>22</th>\n",
       "      <td>(WEAPONS VIOLATION,)</td>\n",
       "      <td>67603</td>\n",
       "    </tr>\n",
       "    <tr>\n",
       "      <th>23</th>\n",
       "      <td>(NARCOTICS,)</td>\n",
       "      <td>703977</td>\n",
       "    </tr>\n",
       "    <tr>\n",
       "      <th>24</th>\n",
       "      <td>(DOMESTIC VIOLENCE,)</td>\n",
       "      <td>1</td>\n",
       "    </tr>\n",
       "    <tr>\n",
       "      <th>25</th>\n",
       "      <td>(HOMICIDE,)</td>\n",
       "      <td>9077</td>\n",
       "    </tr>\n",
       "    <tr>\n",
       "      <th>26</th>\n",
       "      <td>(RITUALISM,)</td>\n",
       "      <td>23</td>\n",
       "    </tr>\n",
       "    <tr>\n",
       "      <th>27</th>\n",
       "      <td>(THEFT,)</td>\n",
       "      <td>1381925</td>\n",
       "    </tr>\n",
       "    <tr>\n",
       "      <th>28</th>\n",
       "      <td>(DECEPTIVE PRACTICE,)</td>\n",
       "      <td>251899</td>\n",
       "    </tr>\n",
       "    <tr>\n",
       "      <th>29</th>\n",
       "      <td>(OTHER NARCOTIC VIOLATION,)</td>\n",
       "      <td>123</td>\n",
       "    </tr>\n",
       "    <tr>\n",
       "      <th>30</th>\n",
       "      <td>(ASSAULT,)</td>\n",
       "      <td>407285</td>\n",
       "    </tr>\n",
       "    <tr>\n",
       "      <th>31</th>\n",
       "      <td>(OBSCENITY,)</td>\n",
       "      <td>533</td>\n",
       "    </tr>\n",
       "    <tr>\n",
       "      <th>32</th>\n",
       "      <td>(GAMBLING,)</td>\n",
       "      <td>14254</td>\n",
       "    </tr>\n",
       "    <tr>\n",
       "      <th>33</th>\n",
       "      <td>(HUMAN TRAFFICKING,)</td>\n",
       "      <td>40</td>\n",
       "    </tr>\n",
       "    <tr>\n",
       "      <th>34</th>\n",
       "      <td>(LIQUOR LAW VIOLATION,)</td>\n",
       "      <td>13900</td>\n",
       "    </tr>\n",
       "  </tbody>\n",
       "</table>\n",
       "</div>"
      ],
      "text/plain": [
       "                            Primary Type  Frequency\n",
       "0                        (INTIMIDATION,)       3832\n",
       "1                        (NON-CRIMINAL,)        145\n",
       "2              (PUBLIC PEACE VIOLATION,)      47054\n",
       "3                             (BATTERY,)    1204701\n",
       "4                         (SEX OFFENSE,)      24392\n",
       "5          (OFFENSE INVOLVING CHILDREN,)      44061\n",
       "6    (NON-CRIMINAL (SUBJECT SPECIFIED),)          7\n",
       "7                            (STALKING,)       3258\n",
       "8   (CONCEALED CARRY LICENSE VIOLATION,)        187\n",
       "9                 (MOTOR VEHICLE THEFT,)     309026\n",
       "10                           (BURGLARY,)     381486\n",
       "11                         (KIDNAPPING,)       6579\n",
       "12                  (CRIMINAL TRESPASS,)     189822\n",
       "13                              (ARSON,)      10933\n",
       "14                      (OTHER OFFENSE,)     409517\n",
       "15                   (PUBLIC INDECENCY,)        154\n",
       "16                       (PROSTITUTION,)      67920\n",
       "17                            (ROBBERY,)     250499\n",
       "18                (CRIM SEXUAL ASSAULT,)      26100\n",
       "19   (INTERFERENCE WITH PUBLIC OFFICER,)      14433\n",
       "20                     (NON - CRIMINAL,)         38\n",
       "21                    (CRIMINAL DAMAGE,)     756105\n",
       "22                  (WEAPONS VIOLATION,)      67603\n",
       "23                          (NARCOTICS,)     703977\n",
       "24                  (DOMESTIC VIOLENCE,)          1\n",
       "25                           (HOMICIDE,)       9077\n",
       "26                          (RITUALISM,)         23\n",
       "27                              (THEFT,)    1381925\n",
       "28                 (DECEPTIVE PRACTICE,)     251899\n",
       "29           (OTHER NARCOTIC VIOLATION,)        123\n",
       "30                            (ASSAULT,)     407285\n",
       "31                          (OBSCENITY,)        533\n",
       "32                           (GAMBLING,)      14254\n",
       "33                  (HUMAN TRAFFICKING,)         40\n",
       "34               (LIQUOR LAW VIOLATION,)      13900"
      ]
     },
     "metadata": {},
     "output_type": "display_data"
    },
    {
     "data": {
      "text/plain": [
       "<matplotlib.axes._subplots.AxesSubplot at 0x7f2b34f1b390>"
      ]
     },
     "execution_count": 73,
     "metadata": {},
     "output_type": "execute_result"
    },
    {
     "data": {
      "image/png": "[encoded data removed]",
      "text/plain": [
       "<matplotlib.figure.Figure at 0x7f2b32982828>"
      ]
     },
     "metadata": {},
     "output_type": "display_data"
    }
   ],
   "source": [
    "#renaming the column in dataframe\n",
    "schemaPeople = schemaPeople.withColumnRenamed('_1','Primary Type')\n",
    "schemaPeople = schemaPeople.withColumnRenamed('_2','Frequency')\n",
    "\n",
    "schemaPanda = schemaPeople.toPandas()\n",
    "display(schemaPanda)\n",
    "schemaPanda.plot.bar(x ='Primary Type', y ='Frequency', colormap = 'summer')"
   ]
  },
  {
   "cell_type": "code",
   "execution_count": null,
   "metadata": {},
   "outputs": [],
   "source": []
  }
 ],
 "metadata": {
  "kernelspec": {
   "display_name": "Python 3",
   "language": "python",
   "name": "python3"
  },
  "language_info": {
   "codemirror_mode": {
    "name": "ipython",
    "version": 3
   },
   "file_extension": ".py",
   "mimetype": "text/x-python",
   "name": "python",
   "nbconvert_exporter": "python",
   "pygments_lexer": "ipython3",
   "version": "3.5.2"
  }
 },
 "nbformat": 4,
 "nbformat_minor": 2
}
