{
 "cells": [
  {
   "cell_type": "code",
   "execution_count": 34,
   "metadata": {},
   "outputs": [],
   "source": [
    "from pyspark.sql import SparkSession\n",
    "from pyspark.sql.types import *\n",
    "\n",
    "spark = SparkSession.builder \\\n",
    "         .master(\"spark://192.168.1.71:7077\") \\\n",
    "         .appName(\"Project\") \\\n",
    "         .config(\"spark.some.config.option\", \"some-value\") \\\n",
    "         .getOrCreate()\n",
    "        \n",
    "sc = spark.sparkContext"
   ]
  },
  {
   "cell_type": "code",
   "execution_count": 35,
   "metadata": {
    "scrolled": false
   },
   "outputs": [],
   "source": [
    "#reading the csv file\n",
    "df = spark.read.csv('Crimes.csv', header=True, inferSchema=True)"
   ]
  },
  {
   "cell_type": "code",
   "execution_count": 36,
   "metadata": {},
   "outputs": [],
   "source": [
    "#df2 is 2.9 gb\n",
    "df2 = df.union(df)\n"
   ]
  },
  {
   "cell_type": "code",
   "execution_count": 37,
   "metadata": {},
   "outputs": [],
   "source": [
    "#df3 is 5.8 gb\n",
    "df3 = df2.union(df2)"
   ]
  },
  {
   "cell_type": "code",
   "execution_count": 47,
   "metadata": {},
   "outputs": [
    {
     "data": {
      "text/plain": [
       "52807112"
      ]
     },
     "execution_count": 47,
     "metadata": {},
     "output_type": "execute_result"
    }
   ],
   "source": [
    "df4 = df3.union(df3)\n",
    "df4.count()"
   ]
  },
  {
   "cell_type": "code",
   "execution_count": 39,
   "metadata": {},
   "outputs": [],
   "source": [
    "#For printing the rdd just paas the rdd object to print_rdd function\n",
    "def print_rdd(output):\n",
    "    for (word,count) in output.collect():\n",
    "        print(\"%s: %i\" % (word,count))\n",
    "    "
   ]
  },
  {
   "cell_type": "code",
   "execution_count": 40,
   "metadata": {},
   "outputs": [],
   "source": [
    "def map_reduce_crimetype(df):\n",
    "    crime_type = df.select('Primary Type')\n",
    "    rddcrime = crime_type.rdd\n",
    "    wordcounts= rddcrime.map(lambda w:(w,1)) \\\n",
    "        .reduceByKey(lambda a,b:a+b) \n",
    "    return wordcounts"
   ]
  },
  {
   "cell_type": "code",
   "execution_count": 41,
   "metadata": {},
   "outputs": [
    {
     "name": "stdout",
     "output_type": "stream",
     "text": [
      "Row(Primary Type='BATTERY'): 9637608\n",
      "Row(Primary Type='MOTOR VEHICLE THEFT'): 2472208\n",
      "Row(Primary Type='ARSON'): 87464\n",
      "Row(Primary Type='ROBBERY'): 2003992\n",
      "Row(Primary Type='CRIM SEXUAL ASSAULT'): 208800\n",
      "Row(Primary Type='RITUALISM'): 184\n",
      "Row(Primary Type='NON - CRIMINAL'): 304\n",
      "Row(Primary Type='HUMAN TRAFFICKING'): 320\n",
      "Row(Primary Type='STALKING'): 26064\n",
      "Row(Primary Type='PUBLIC INDECENCY'): 1232\n",
      "Row(Primary Type='HOMICIDE'): 72616\n",
      "Row(Primary Type='THEFT'): 11055400\n",
      "Row(Primary Type='DECEPTIVE PRACTICE'): 2015192\n",
      "Row(Primary Type='OBSCENITY'): 4264\n",
      "Row(Primary Type='NON-CRIMINAL'): 1160\n",
      "Row(Primary Type='CONCEALED CARRY LICENSE VIOLATION'): 1496\n",
      "Row(Primary Type='NON-CRIMINAL (SUBJECT SPECIFIED)'): 56\n",
      "Row(Primary Type='INTERFERENCE WITH PUBLIC OFFICER'): 115464\n",
      "Row(Primary Type='LIQUOR LAW VIOLATION'): 111200\n",
      "Row(Primary Type='BURGLARY'): 3051888\n",
      "Row(Primary Type='PROSTITUTION'): 543360\n",
      "Row(Primary Type='WEAPONS VIOLATION'): 540824\n",
      "Row(Primary Type='GAMBLING'): 114032\n",
      "Row(Primary Type='INTIMIDATION'): 30656\n",
      "Row(Primary Type='PUBLIC PEACE VIOLATION'): 376432\n",
      "Row(Primary Type='OFFENSE INVOLVING CHILDREN'): 352488\n",
      "Row(Primary Type='KIDNAPPING'): 52632\n",
      "Row(Primary Type='CRIMINAL TRESPASS'): 1518576\n",
      "Row(Primary Type='NARCOTICS'): 5631816\n",
      "Row(Primary Type='DOMESTIC VIOLENCE'): 8\n",
      "Row(Primary Type='ASSAULT'): 3258280\n",
      "Row(Primary Type='OTHER OFFENSE'): 3276136\n",
      "Row(Primary Type='SEX OFFENSE'): 195136\n",
      "Row(Primary Type='CRIMINAL DAMAGE'): 6048840\n",
      "Row(Primary Type='OTHER NARCOTIC VIOLATION'): 984\n"
     ]
    }
   ],
   "source": [
    "rdd = map_reduce_crimetype(df4)\n",
    "print_rdd(rdd)"
   ]
  },
  {
   "cell_type": "code",
   "execution_count": 46,
   "metadata": {},
   "outputs": [
    {
     "name": "stdout",
     "output_type": "stream",
     "text": [
      "96\n",
      "35\n"
     ]
    }
   ],
   "source": [
    "print(rdd.getNumPartitions())\n",
    "print(rdd.count())"
   ]
  },
  {
   "cell_type": "code",
   "execution_count": 11,
   "metadata": {},
   "outputs": [
    {
     "data": {
      "text/html": [
       "<div>\n",
       "<style scoped>\n",
       "    .dataframe tbody tr th:only-of-type {\n",
       "        vertical-align: middle;\n",
       "    }\n",
       "\n",
       "    .dataframe tbody tr th {\n",
       "        vertical-align: top;\n",
       "    }\n",
       "\n",
       "    .dataframe thead th {\n",
       "        text-align: right;\n",
       "    }\n",
       "</style>\n",
       "<table border=\"1\" class=\"dataframe\">\n",
       "  <thead>\n",
       "    <tr style=\"text-align: right;\">\n",
       "      <th></th>\n",
       "      <th>Primary Type</th>\n",
       "      <th>Frequency</th>\n",
       "    </tr>\n",
       "  </thead>\n",
       "  <tbody>\n",
       "    <tr>\n",
       "      <th>0</th>\n",
       "      <td>(INTIMIDATION,)</td>\n",
       "      <td>3832</td>\n",
       "    </tr>\n",
       "    <tr>\n",
       "      <th>1</th>\n",
       "      <td>(NON-CRIMINAL,)</td>\n",
       "      <td>145</td>\n",
       "    </tr>\n",
       "    <tr>\n",
       "      <th>2</th>\n",
       "      <td>(PUBLIC PEACE VIOLATION,)</td>\n",
       "      <td>47054</td>\n",
       "    </tr>\n",
       "    <tr>\n",
       "      <th>3</th>\n",
       "      <td>(BATTERY,)</td>\n",
       "      <td>1204701</td>\n",
       "    </tr>\n",
       "    <tr>\n",
       "      <th>4</th>\n",
       "      <td>(SEX OFFENSE,)</td>\n",
       "      <td>24392</td>\n",
       "    </tr>\n",
       "    <tr>\n",
       "      <th>5</th>\n",
       "      <td>(NON-CRIMINAL (SUBJECT SPECIFIED),)</td>\n",
       "      <td>7</td>\n",
       "    </tr>\n",
       "    <tr>\n",
       "      <th>6</th>\n",
       "      <td>(CONCEALED CARRY LICENSE VIOLATION,)</td>\n",
       "      <td>187</td>\n",
       "    </tr>\n",
       "    <tr>\n",
       "      <th>7</th>\n",
       "      <td>(STALKING,)</td>\n",
       "      <td>3258</td>\n",
       "    </tr>\n",
       "    <tr>\n",
       "      <th>8</th>\n",
       "      <td>(MOTOR VEHICLE THEFT,)</td>\n",
       "      <td>309026</td>\n",
       "    </tr>\n",
       "    <tr>\n",
       "      <th>9</th>\n",
       "      <td>(OFFENSE INVOLVING CHILDREN,)</td>\n",
       "      <td>44061</td>\n",
       "    </tr>\n",
       "    <tr>\n",
       "      <th>10</th>\n",
       "      <td>(BURGLARY,)</td>\n",
       "      <td>381486</td>\n",
       "    </tr>\n",
       "    <tr>\n",
       "      <th>11</th>\n",
       "      <td>(KIDNAPPING,)</td>\n",
       "      <td>6579</td>\n",
       "    </tr>\n",
       "    <tr>\n",
       "      <th>12</th>\n",
       "      <td>(CRIMINAL TRESPASS,)</td>\n",
       "      <td>189822</td>\n",
       "    </tr>\n",
       "    <tr>\n",
       "      <th>13</th>\n",
       "      <td>(ARSON,)</td>\n",
       "      <td>10933</td>\n",
       "    </tr>\n",
       "    <tr>\n",
       "      <th>14</th>\n",
       "      <td>(OTHER OFFENSE,)</td>\n",
       "      <td>409517</td>\n",
       "    </tr>\n",
       "    <tr>\n",
       "      <th>15</th>\n",
       "      <td>(PUBLIC INDECENCY,)</td>\n",
       "      <td>154</td>\n",
       "    </tr>\n",
       "    <tr>\n",
       "      <th>16</th>\n",
       "      <td>(PROSTITUTION,)</td>\n",
       "      <td>67920</td>\n",
       "    </tr>\n",
       "    <tr>\n",
       "      <th>17</th>\n",
       "      <td>(ROBBERY,)</td>\n",
       "      <td>250499</td>\n",
       "    </tr>\n",
       "    <tr>\n",
       "      <th>18</th>\n",
       "      <td>(CRIM SEXUAL ASSAULT,)</td>\n",
       "      <td>26100</td>\n",
       "    </tr>\n",
       "    <tr>\n",
       "      <th>19</th>\n",
       "      <td>(INTERFERENCE WITH PUBLIC OFFICER,)</td>\n",
       "      <td>14433</td>\n",
       "    </tr>\n",
       "    <tr>\n",
       "      <th>20</th>\n",
       "      <td>(RITUALISM,)</td>\n",
       "      <td>23</td>\n",
       "    </tr>\n",
       "    <tr>\n",
       "      <th>21</th>\n",
       "      <td>(CRIMINAL DAMAGE,)</td>\n",
       "      <td>756105</td>\n",
       "    </tr>\n",
       "    <tr>\n",
       "      <th>22</th>\n",
       "      <td>(NARCOTICS,)</td>\n",
       "      <td>703977</td>\n",
       "    </tr>\n",
       "    <tr>\n",
       "      <th>23</th>\n",
       "      <td>(NON - CRIMINAL,)</td>\n",
       "      <td>38</td>\n",
       "    </tr>\n",
       "    <tr>\n",
       "      <th>24</th>\n",
       "      <td>(DOMESTIC VIOLENCE,)</td>\n",
       "      <td>1</td>\n",
       "    </tr>\n",
       "    <tr>\n",
       "      <th>25</th>\n",
       "      <td>(HOMICIDE,)</td>\n",
       "      <td>9077</td>\n",
       "    </tr>\n",
       "    <tr>\n",
       "      <th>26</th>\n",
       "      <td>(WEAPONS VIOLATION,)</td>\n",
       "      <td>67603</td>\n",
       "    </tr>\n",
       "    <tr>\n",
       "      <th>27</th>\n",
       "      <td>(THEFT,)</td>\n",
       "      <td>1381925</td>\n",
       "    </tr>\n",
       "    <tr>\n",
       "      <th>28</th>\n",
       "      <td>(DECEPTIVE PRACTICE,)</td>\n",
       "      <td>251899</td>\n",
       "    </tr>\n",
       "    <tr>\n",
       "      <th>29</th>\n",
       "      <td>(OTHER NARCOTIC VIOLATION,)</td>\n",
       "      <td>123</td>\n",
       "    </tr>\n",
       "    <tr>\n",
       "      <th>30</th>\n",
       "      <td>(ASSAULT,)</td>\n",
       "      <td>407285</td>\n",
       "    </tr>\n",
       "    <tr>\n",
       "      <th>31</th>\n",
       "      <td>(OBSCENITY,)</td>\n",
       "      <td>533</td>\n",
       "    </tr>\n",
       "    <tr>\n",
       "      <th>32</th>\n",
       "      <td>(GAMBLING,)</td>\n",
       "      <td>14254</td>\n",
       "    </tr>\n",
       "    <tr>\n",
       "      <th>33</th>\n",
       "      <td>(LIQUOR LAW VIOLATION,)</td>\n",
       "      <td>13900</td>\n",
       "    </tr>\n",
       "    <tr>\n",
       "      <th>34</th>\n",
       "      <td>(HUMAN TRAFFICKING,)</td>\n",
       "      <td>40</td>\n",
       "    </tr>\n",
       "  </tbody>\n",
       "</table>\n",
       "</div>"
      ],
      "text/plain": [
       "                            Primary Type  Frequency\n",
       "0                        (INTIMIDATION,)       3832\n",
       "1                        (NON-CRIMINAL,)        145\n",
       "2              (PUBLIC PEACE VIOLATION,)      47054\n",
       "3                             (BATTERY,)    1204701\n",
       "4                         (SEX OFFENSE,)      24392\n",
       "5    (NON-CRIMINAL (SUBJECT SPECIFIED),)          7\n",
       "6   (CONCEALED CARRY LICENSE VIOLATION,)        187\n",
       "7                            (STALKING,)       3258\n",
       "8                 (MOTOR VEHICLE THEFT,)     309026\n",
       "9          (OFFENSE INVOLVING CHILDREN,)      44061\n",
       "10                           (BURGLARY,)     381486\n",
       "11                         (KIDNAPPING,)       6579\n",
       "12                  (CRIMINAL TRESPASS,)     189822\n",
       "13                              (ARSON,)      10933\n",
       "14                      (OTHER OFFENSE,)     409517\n",
       "15                   (PUBLIC INDECENCY,)        154\n",
       "16                       (PROSTITUTION,)      67920\n",
       "17                            (ROBBERY,)     250499\n",
       "18                (CRIM SEXUAL ASSAULT,)      26100\n",
       "19   (INTERFERENCE WITH PUBLIC OFFICER,)      14433\n",
       "20                          (RITUALISM,)         23\n",
       "21                    (CRIMINAL DAMAGE,)     756105\n",
       "22                          (NARCOTICS,)     703977\n",
       "23                     (NON - CRIMINAL,)         38\n",
       "24                  (DOMESTIC VIOLENCE,)          1\n",
       "25                           (HOMICIDE,)       9077\n",
       "26                  (WEAPONS VIOLATION,)      67603\n",
       "27                              (THEFT,)    1381925\n",
       "28                 (DECEPTIVE PRACTICE,)     251899\n",
       "29           (OTHER NARCOTIC VIOLATION,)        123\n",
       "30                            (ASSAULT,)     407285\n",
       "31                          (OBSCENITY,)        533\n",
       "32                           (GAMBLING,)      14254\n",
       "33               (LIQUOR LAW VIOLATION,)      13900\n",
       "34                  (HUMAN TRAFFICKING,)         40"
      ]
     },
     "metadata": {},
     "output_type": "display_data"
    },
    {
     "data": {
      "text/plain": [
       "<matplotlib.axes._subplots.AxesSubplot at 0x7fe1ac99ee48>"
      ]
     },
     "execution_count": 11,
     "metadata": {},
     "output_type": "execute_result"
    }
   ],
   "source": [
    "schemaPeople = spark.createDataFrame(wordcounts)\n",
    "\n",
    "#renaming the column in dataframe\n",
    "schemaPeople = schemaPeople.withColumnRenamed('_1','Primary Type')\n",
    "schemaPeople = schemaPeople.withColumnRenamed('_2','Frequency')\n",
    "\n",
    "schemaPanda = schemaPeople.toPandas()\n",
    "display(schemaPanda)\n",
    "schemaPanda.plot.bar(x ='Primary Type', y ='Frequency', colormap = 'summer')"
   ]
  },
  {
   "cell_type": "code",
   "execution_count": 33,
   "metadata": {},
   "outputs": [],
   "source": [
    "spark.stop()"
   ]
  },
  {
   "cell_type": "code",
   "execution_count": null,
   "metadata": {},
   "outputs": [],
   "source": []
  }
 ],
 "metadata": {
  "kernelspec": {
   "display_name": "Python 3",
   "language": "python",
   "name": "python3"
  },
  "language_info": {
   "codemirror_mode": {
    "name": "ipython",
    "version": 3
   },
   "file_extension": ".py",
   "mimetype": "text/x-python",
   "name": "python",
   "nbconvert_exporter": "python",
   "pygments_lexer": "ipython3",
   "version": "3.5.2"
  }
 },
 "nbformat": 4,
 "nbformat_minor": 2
}
